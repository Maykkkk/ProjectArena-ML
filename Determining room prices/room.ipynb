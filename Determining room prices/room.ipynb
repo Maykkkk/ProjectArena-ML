{
 "cells": [
  {
   "cell_type": "code",
   "execution_count": null,
   "metadata": {},
   "outputs": [],
   "source": [
    "import numpy as np\n",
    "from sklearn.linear_model import LinearRegression"
   ]
  },
  {
   "cell_type": "code",
   "execution_count": null,
   "metadata": {},
   "outputs": [],
   "source": [
    "jumlah_kamar_tidur = np.array([1, 2, 3, 4, 5])\n",
    "harga_rumah = np.array([100, 150, 200, 250, 300])\n"
   ]
  },
  {
   "cell_type": "code",
   "execution_count": null,
   "metadata": {},
   "outputs": [],
   "source": [
    "model = LinearRegression()\n",
    "model.fit(jumlah_kamar_tidur.reshape(-1, 1), harga_rumah)"
   ]
  },
  {
   "cell_type": "code",
   "execution_count": null,
   "metadata": {},
   "outputs": [],
   "source": [
    "jumlah_kamar_prediksi = np.array([2.5, 3.5, 4.5])\n",
    "harga_prediksi = model.predict(jumlah_kamar_prediksi.reshape(-1, 1))\n"
   ]
  },
  {
   "cell_type": "code",
   "execution_count": null,
   "metadata": {},
   "outputs": [],
   "source": [
    "for kamar, harga in zip(jumlah_kamar_prediksi, harga_prediksi):\n",
    "    print(f'Jumlah Kamar: {kamar} => Prediksi Harga: {harga:.2f} juta')"
   ]
  }
 ],
 "metadata": {
  "language_info": {
   "name": "python"
  },
  "orig_nbformat": 4
 },
 "nbformat": 4,
 "nbformat_minor": 2
}
